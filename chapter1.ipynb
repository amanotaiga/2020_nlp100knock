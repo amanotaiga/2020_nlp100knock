{
 "cells": [
  {
   "cell_type": "code",
   "execution_count": 1,
   "metadata": {},
   "outputs": [
    {
     "name": "stdout",
     "output_type": "stream",
     "text": [
      "desserts\n",
      "desserts"
     ]
    }
   ],
   "source": [
    "# 00. Reversed string\n",
    "# Obtain the string that arranges letters of the string “stressed” in reverse order (tail to head).\n",
    "s = 'stressed'\n",
    "# 1\n",
    "print(\"\".join([i for i in s[::-1]]))\n",
    "# 2\n",
    "i = len(s)\n",
    "while i > 0:\n",
    "    i-=1\n",
    "    print(s[i],end=\"\")"
   ]
  },
  {
   "cell_type": "code",
   "execution_count": 2,
   "metadata": {},
   "outputs": [
    {
     "name": "stdout",
     "output_type": "stream",
     "text": [
      "shoe\n"
     ]
    }
   ],
   "source": [
    "# 01. “schooled”\n",
    "# Obtain the string that concatenates the 1st, 3rd, 5th, and 7th letters in the string “schooled”.\n",
    "s = 'schooled'\n",
    "concat = \"\".join([s[i] for i in range(0,len(s),2)])\n",
    "print(concat)"
   ]
  },
  {
   "cell_type": "code",
   "execution_count": 3,
   "metadata": {},
   "outputs": [
    {
     "name": "stdout",
     "output_type": "stream",
     "text": [
      "schooled\n",
      "schooled"
     ]
    }
   ],
   "source": [
    "# 02. “shoe” + “cold” = “schooled”\n",
    "# Obtain the string “schooled” by concatenating the letters in “shoe” and “cold” one after the other from head to tail.\n",
    "# 1\n",
    "for i in zip('shoe','cold'):\n",
    "    print(i[0]+i[1],end=\"\")\n",
    "print()\n",
    "# 2 \n",
    "s1 = 'shoe'\n",
    "s2 = 'cold'\n",
    "len_s1 = len(s1)\n",
    "len_s2 = len(s2)\n",
    "max_len = max(len_s1,len_s2)\n",
    "for i in range(max_len):\n",
    "    if i < len_s1 and i < len_s2:\n",
    "        print(s1[i]+s2[i],end='')\n",
    "    elif i < len_s1 and i >= len_s2:\n",
    "        print(s1[i],end='')\n",
    "    else:\n",
    "        print(s2[i],end='')"
   ]
  },
  {
   "cell_type": "code",
   "execution_count": 4,
   "metadata": {},
   "outputs": [
    {
     "name": "stdout",
     "output_type": "stream",
     "text": [
      "['Now', 'I', 'need', 'a', 'drink,', 'alcoholic', 'of', 'course,', 'after', 'the', 'heavy', 'lectures', 'involving', 'quantum', 'mechanics.']\n",
      "[3, 1, 4, 1, 6, 9, 2, 7, 5, 3, 5, 8, 9, 7, 10]\n"
     ]
    }
   ],
   "source": [
    "# 03. Pi\n",
    "# Split the sentence “Now I need a drink, alcoholic of course, after the heavy lectures involving quantum mechanics.” into words,\n",
    "# and create a list whose element presents the number of alphabetical letters in the corresponding word.\n",
    "s = 'Now I need a drink, alcoholic of course, after the heavy lectures involving quantum mechanics.'\n",
    "words = [w for w in s.split(' ')]\n",
    "nums = [len(word) for word in words]\n",
    "print(words)\n",
    "print(nums)"
   ]
  },
  {
   "cell_type": "code",
   "execution_count": 55,
   "metadata": {},
   "outputs": [
    {
     "name": "stdout",
     "output_type": "stream",
     "text": [
      "{'H': 0, 'He': 1, 'Li': 2, 'Be': 3, 'B': 4, 'C': 5, 'N': 6, 'O': 7, 'F': 8, 'Ne': 9, 'Na': 10, 'Mi': 11, 'Al': 12, 'Si': 13, 'P': 14, 'S': 15, 'Cl': 16, 'Ar': 17, 'K': 18, 'Ca': 19}\n"
     ]
    }
   ],
   "source": [
    "# 04. Atomic symbols\n",
    "# Split the sentence “Hi He Lied Because Boron Could Not Oxidize Fluorine. New Nations Might Also Sign Peace Security Clause. Arthur King Can.”\n",
    "# into words, and extract the first letter from the 1st, 5th, 6th, 7th, 8th, 9th, 15th, 16th, 19th words and \n",
    "# the first two letters from the other words. Create an associative array (dictionary object or mapping object) that\n",
    "# maps from the extracted string to the position (offset in the sentence) of the corresponding word\n",
    "s = 'Hi He Lied Because Boron Could Not Oxidize Fluorine. New Nations Might Also Sign Peace Security Clause. Arthur King Can.'\n",
    "words = [w for w in s.split(' ')]\n",
    "first = [0,4,5,6,7,8,14,15,18]\n",
    "first_two = []\n",
    "dic = dict()\n",
    "for i in range(len(words)):\n",
    "    if i not in first:\n",
    "        first_two.append(i)\n",
    "     \n",
    "# 1\n",
    "for i in range(len(words)):\n",
    "    if i in first:\n",
    "        dic[words[i][0]] = i\n",
    "    else:\n",
    "        dic[words[i][:2]] = i\n",
    "        \n",
    "# 2        \n",
    "# for i in first:\n",
    "#     dic[words[i][0]] = i\n",
    "\n",
    "# for i in first_two:\n",
    "#     dic[words[i][:2]] = i\n",
    "    \n",
    "print(dic)"
   ]
  },
  {
   "cell_type": "code",
   "execution_count": 60,
   "metadata": {},
   "outputs": [
    {
     "name": "stdout",
     "output_type": "stream",
     "text": [
      "('I', 'am')('am', 'an')('an', 'NLPer')\n",
      "('I', ' ')(' ', 'a')('a', 'm')('m', ' ')(' ', 'a')('a', 'n')('n', ' ')(' ', 'N')('N', 'L')('L', 'P')('P', 'e')('e', 'r')"
     ]
    }
   ],
   "source": [
    "# 05. n-gram\n",
    "# Implement a function that obtains n-grams from a given sequence object (e.g., string and list). \n",
    "# Use this function to obtain word bi-grams and letter bi-grams from the sentence “I am an NLPer”\n",
    "s = \"I am an NLPer\"\n",
    "def find_ngrams(input_list, n): \n",
    "    return zip(*[input_list[i:] for i in range(n)])\n",
    "\n",
    "bi_word = find_ngrams(s.split(' '),2)\n",
    "bi_cha = find_ngrams(s,2)\n",
    "\n",
    "for i in bi_word:\n",
    "    print(i,end='')\n",
    "print()\n",
    "for i in bi_cha:\n",
    "    print(i,end='')"
   ]
  },
  {
   "cell_type": "code",
   "execution_count": 5,
   "metadata": {},
   "outputs": [
    {
     "name": "stdout",
     "output_type": "stream",
     "text": [
      "union:  {'gr', 'ag', 'ad', 'ar', 'ap', 'ra', 'pa', 'se', 'is', 'di', 'ph'}\n",
      "intersection:  {'pa', 'ar', 'ap', 'ra'}\n",
      "difference:  {'ad', 'se', 'di', 'is'}\n",
      "if se in set1: and set2: False\n"
     ]
    }
   ],
   "source": [
    "# 06. Set\n",
    "# Let the sets of letter bi-grams from the words “paraparaparadise” and “paragraph” $X$ and $Y$, respectively. \n",
    "# Obtain the union, intersection, difference of the two sets. \n",
    "# In addition, check whether the bigram “se” is included in the sets $X$ and $Y$\n",
    "\n",
    "s1 = 'paraparaparadise'  \n",
    "s2 = 'paragraph'\n",
    "\n",
    "def find_ngrams(input_list, n): \n",
    "    ngram = zip(*[input_list[i:] for i in range(n)])\n",
    "    return [\"\".join(i) for i in ngram]\n",
    "\n",
    "bi_s1 = set(find_ngrams(s1,2))\n",
    "bi_s2 = set(find_ngrams(s2,2))\n",
    "\n",
    "print(\"union: \",bi_s1.union(bi_s2))\n",
    "print(\"intersection: \",bi_s1.intersection(bi_s2))\n",
    "print(\"difference: \",bi_s1.difference(bi_s2))\n",
    "print('if se in set1: and set2:','se' in bi_s1 and 'se' in bi_s2)"
   ]
  },
  {
   "cell_type": "code",
   "execution_count": 6,
   "metadata": {},
   "outputs": [
    {
     "name": "stdout",
     "output_type": "stream",
     "text": [
      "temperature is 22.4 at 12\n"
     ]
    }
   ],
   "source": [
    "def combine_str(x, y, z):\n",
    "    return '{} is {} at {}'.format(y,z,x)\n",
    "\n",
    "x=12\n",
    "y=\"temperature\"\n",
    "z=22.4\n",
    "print(combine_str(x,y,z))"
   ]
  },
  {
   "cell_type": "code",
   "execution_count": 7,
   "metadata": {},
   "outputs": [
    {
     "name": "stdout",
     "output_type": "stream",
     "text": [
      "Now I need a drink, alxoholix of xourse, after the heavy lextures involving quantum mexhanixs.None\n"
     ]
    }
   ],
   "source": [
    "def cipher(s):\n",
    "    for i in s:\n",
    "        if i=='c':\n",
    "            print(chr(219-ord(i)),end='')\n",
    "        else:\n",
    "            print(i,end='')\n",
    "\n",
    "s = 'Now I need a drink, alcoholic of course, after the heavy lectures involving quantum mechanics.'\n",
    "print(cipher(s))"
   ]
  },
  {
   "cell_type": "code",
   "execution_count": 8,
   "metadata": {},
   "outputs": [
    {
     "name": "stdout",
     "output_type": "stream",
     "text": [
      "I clnoudt bileee that I cuod atcauly urasdnetd what I was reidag : the phnnoeeml pwor of the humn mind . "
     ]
    }
   ],
   "source": [
    "import random\n",
    "s = 'I couldn’t believe that I could actually understand what I was reading : the phenomenal power of the human mind .'\n",
    "words = [w for w in s.split(' ')]\n",
    "for w in words:\n",
    "    if len(w) <= 4:\n",
    "        print(w,end=' ')\n",
    "    else:\n",
    "        ran = list(w[1:-2])\n",
    "        random.shuffle(ran)\n",
    "        print(w[0]+\"\".join(ran)+w[-1],end=' ')"
   ]
  }
 ],
 "metadata": {
  "kernelspec": {
   "display_name": "Python 3",
   "language": "python",
   "name": "python3"
  },
  "language_info": {
   "codemirror_mode": {
    "name": "ipython",
    "version": 3
   },
   "file_extension": ".py",
   "mimetype": "text/x-python",
   "name": "python",
   "nbconvert_exporter": "python",
   "pygments_lexer": "ipython3",
   "version": "3.6.8"
  }
 },
 "nbformat": 4,
 "nbformat_minor": 4
}
