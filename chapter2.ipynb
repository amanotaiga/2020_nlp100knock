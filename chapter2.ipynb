{
 "cells": [
  {
   "cell_type": "code",
   "execution_count": 3,
   "metadata": {},
   "outputs": [
    {
     "name": "stdout",
     "output_type": "stream",
     "text": [
      "2780\n",
      "2780 data/popular-names.txt\r\n"
     ]
    }
   ],
   "source": [
    "# 10. Line count \n",
    "# Count the number of lines of the file. \n",
    "# Confirm the result by using wc command.\n",
    "\n",
    "num_lines = sum(1 for line in open('data/ch2/popular-names.txt'))\n",
    "print(num_lines)\n",
    "\n",
    "!wc --line data/ch2/popular-names.txt"
   ]
  },
  {
   "cell_type": "code",
   "execution_count": 14,
   "metadata": {},
   "outputs": [
    {
     "name": "stdout",
     "output_type": "stream",
     "text": [
      "Mary F 7065 1880\n",
      "Anna F 2604 1880\n",
      "Emma F 2003 1880\n",
      "Elizabeth F 1939 1880\n",
      "Minnie F 1746 1880\n",
      "Margaret F 1578 1880\n",
      "Ida F 1472 1880\n",
      "Alice F 1414 1880\n",
      "Bertha F 1320 1880\n",
      "Sarah F 1288 1880\n",
      "John M 9655 1880\n",
      "--------------------------------------------------------------------------------\n"
     ]
    }
   ],
   "source": [
    "# 11. Replace tabs into spaces \n",
    "# Replace every occurrence of a tab character into a space. \n",
    "# Confirm the result by using sed, tr, or expand command.\n",
    "\n",
    "lines = [line.rstrip().replace('\\t',' ') for line in open('data/ch2/popular-names.txt')]\n",
    "for i,line in enumerate(lines):\n",
    "    print(line)\n",
    "#     if i==10:break\n",
    "\n",
    "# s/pattern/replace_letter/g(replace all)\n",
    "\n",
    "!sed 's/\\t/ /g' data/ch2/popular-names.txt"
   ]
  },
  {
   "cell_type": "code",
   "execution_count": 112,
   "metadata": {},
   "outputs": [
    {
     "name": "stdout",
     "output_type": "stream",
     "text": [
      "Files data/ch2/first_col.txt and data/ch2/col1_test.txt are identical\n",
      "Files data/ch2/second_col.txt and data/ch2/col2_test.txt are identical\n"
     ]
    }
   ],
   "source": [
    "# 12. col1.txt from the first column, col2.txt from the second column \n",
    "# Extract the value of the first column of each line, and store the output into col1.txt. \n",
    "# Extract the value of the second column of each line, and store the output into col2.txt. \n",
    "# Confirm the result by using cut command.\n",
    "\n",
    "first_col = [line.rstrip().split('\\t')[0] for line in open('data/ch2/popular-names.txt')]\n",
    "second_col = [line.rstrip().split('\\t')[1] for line in open('data/ch2/popular-names.txt')]\n",
    "\n",
    "with open(\"data/ch2/first_col.txt\", \"w\") as f:\n",
    "    for line in first_col:\n",
    "        f.write(str(line) +\"\\n\")\n",
    "\n",
    "with open(\"data/ch2/second_col.txt\", \"w\") as f:\n",
    "    for line in second_col:\n",
    "        f.write(str(line) +\"\\n\")    \n",
    "\n",
    "!cut --fields=1 data/ch2/popular-names.txt > data/ch2/col1_test.txt\n",
    "!diff --report-identical-files data/ch2/first_col.txt data/ch2/col1_test.txt\n",
    "\n",
    "!cut --fields=2 data/ch2/popular-names.txt > data/ch2/col2_test.txt\n",
    "!diff --report-identical-files data/ch2/second_col.txt data/ch2/col2_test.txt"
   ]
  },
  {
   "cell_type": "code",
   "execution_count": 113,
   "metadata": {},
   "outputs": [
    {
     "name": "stdout",
     "output_type": "stream",
     "text": [
      "Files data/ch2/merge.txt and data/ch2/merge_test.txt are identical\r\n"
     ]
    }
   ],
   "source": [
    "# 13. Merging col1.txt and col2.txt\n",
    "# Join the contents of col1.txt and col2.txt, \n",
    "# and create a text file whose each line contains the values of the first \n",
    "# and second columns (separated by tab character) of the original file. \n",
    "# Confirm the result by using paste command.\n",
    "\n",
    "first_col = [line.rstrip() for line in open('data/ch2/first_col.txt')]\n",
    "second_col = [line.rstrip() for line in open('data/ch2/second_col.txt')]\n",
    "\n",
    "with open(\"data/ch2/merge.txt\", \"w\") as f:\n",
    "    for line in zip(first_col,second_col):\n",
    "        f.write(str(line[0])+'\\t'+str(line[1]) +\"\\n\")\n",
    "        \n",
    "!paste data/ch2/first_col.txt data/ch2/second_col.txt > data/ch2/merge_test.txt\n",
    "!diff --report-identical-files data/ch2/merge.txt data/ch2/merge_test.txt"
   ]
  },
  {
   "cell_type": "code",
   "execution_count": 58,
   "metadata": {},
   "outputs": [
    {
     "name": "stdout",
     "output_type": "stream",
     "text": [
      "enter one number and head n lines will be displayed: 4\n",
      "Mary\n",
      "Anna\n",
      "Emma\n",
      "Elizabeth\n",
      "enter one number and tail n lines will be displayed: 5\n",
      "Benjamin\n",
      "Elijah\n",
      "Lucas\n",
      "Mason\n",
      "Logan\n"
     ]
    }
   ],
   "source": [
    "# 14. First N lines \n",
    "# Receive a natural number $N$ from a command-line argument,\n",
    "# and output the first $N$ lines of the file. \n",
    "# Confirm the result by using head command.\n",
    "\n",
    "# 15. Last N lines\n",
    "# Receive a natural number $N$ from a command-line argument,\n",
    "# and output the last $N$ lines of the file. \n",
    "# Confirm the result by using tail command.\n",
    "\n",
    "# 14 and 15 are similar thus they are in the same bash\n",
    "\n",
    "fname = 'data/ch2/first_col.txt'\n",
    "n = int(input('enter one number and head n lines will be displayed: '))\n",
    "\n",
    "with open(fname,'r') as f:\n",
    "    for i, line in enumerate(f):\n",
    "        if i >= n:\n",
    "            break\n",
    "        print(line.rstrip())        \n",
    "        \n",
    "#  need to run in command ./ch2_1415.sh\n",
    "# echo -n \"enter one number: \" \n",
    "# read n \n",
    "# head --lines=$n data/ch2/first_col.txt\n",
    "\n",
    "fname = 'data/ch2/first_col.txt'\n",
    "n = int(input('enter one number and tail n lines will be displayed: '))\n",
    "\n",
    "if n > 0:\n",
    "    with open(fname,'r') as f:\n",
    "        lines = f.readlines()\n",
    "\n",
    "    for line in lines[-n:]:\n",
    "        print(line.rstrip())\n",
    "        \n",
    "                \n",
    "#  need to run in command ./ch2_1415.sh\n",
    "# echo -n \"enter one number: \" \n",
    "# read n \n",
    "# tail --lines=$n data/ch2/first_col.txt"
   ]
  },
  {
   "cell_type": "code",
   "execution_count": 109,
   "metadata": {},
   "outputs": [
    {
     "name": "stdout",
     "output_type": "stream",
     "text": [
      "enter one number: 5\n"
     ]
    }
   ],
   "source": [
    "# 16. Split a file into N pieces \n",
    "# Receive a natural number $N$ from a command-line argument,\n",
    "# and split the input file into $N$ pieces at line boundaries.\n",
    "# Confirm the result by using split command.\n",
    "\n",
    "import math\n",
    "\n",
    "fname = 'data/ch2/first_col.txt'\n",
    "n = int(input('enter one number: '))\n",
    "\n",
    "with open(fname,'r') as f:\n",
    "    lines = f.readlines()\n",
    "\n",
    "num_lines = len(lines) \n",
    "unit = math.ceil(num_lines / n)    # eg. 1000 lines split into 5 pieces, each unit is 200(lines)\n",
    "\n",
    "for i,line in enumerate(range(0, num_lines, unit)):\n",
    "    with open('data/ch2/split_{:02d}.txt'.format(i+1), mode='w') as f:\n",
    "        for line in lines[i*unit: (i+1)*unit]:  # eg. 0~200, 200~400\n",
    "            f.write(line)\n",
    "            \n",
    "# need to run in command ./ch2_16.sh"
   ]
  },
  {
   "cell_type": "code",
   "execution_count": 30,
   "metadata": {},
   "outputs": [
    {
     "name": "stdout",
     "output_type": "stream",
     "text": [
      "Files data/ch2/no_repeat.txt and data/ch2/no_repeat_test.txt are identical\r\n"
     ]
    }
   ],
   "source": [
    "# 17. Distinct strings in the first column　\n",
    "# Find distinct strings (a set of strings) of the first column of the file. \n",
    "# Confirm the result by using cut, sort, and uniq commands.\n",
    "\n",
    "first_col = set([line.split('\\t')[0] for line in open('data/ch2/popular-names.txt')])\n",
    "with open ('data/ch2/no_repeat.txt','w') as f:\n",
    "    for line in first_col:\n",
    "        f.write(line+'\\n')\n",
    "        \n",
    "# cut first column, sort, take set() of the file, and output as test_file\n",
    "!cut --fields=1 data/ch2/popular-names.txt | sort | uniq > data/ch2/no_repeat_test.txt\n",
    "\n",
    "# sort file for comparison\n",
    "!sort -o data/ch2/no_repeat.txt  data/ch2/no_repeat.txt\n",
    "!diff --report-identical-files data/ch2/no_repeat.txt data/ch2/no_repeat_test.txt"
   ]
  },
  {
   "cell_type": "code",
   "execution_count": 34,
   "metadata": {},
   "outputs": [
    {
     "name": "stdout",
     "output_type": "stream",
     "text": [
      "Files data/ch2/sortbycol3.txt and data/ch2/sortbycol3_test.txt are identical\r\n"
     ]
    }
   ],
   "source": [
    "# 18. Sort lines in ascending order of the third column\n",
    "# Sort the lines in ascending numeric order of the third column (sort lines without changing the content of each line).\n",
    "# Confirm the result by using sort command.\n",
    "\n",
    "popular_names = [line.rstrip().split('\\t') for line in open('data/ch2/popular-names.txt')]\n",
    "sorted_list = sorted(popular_names,key=lambda s: int(s[2]),  reverse=True)\n",
    "with open ('data/ch2/sortbycol3.txt','w') as f:\n",
    "    for line in sorted_list:\n",
    "        f.write(\"\\t\".join(line)+'\\n')\n",
    "\n",
    "        \n",
    "!sort data/ch2/popular-names.txt --key 3,3 --numeric-sort --reverse > data/ch2/sortbycol3_test.txt\n",
    "!sort -o data/ch2/sortbycol3.txt  data/ch2/sortbycol3.txt --key 3,3 --numeric-sort --reverse  \n",
    "!diff --report-identical-files data/ch2/sortbycol3.txt data/ch2/sortbycol3_test.txt"
   ]
  },
  {
   "cell_type": "code",
   "execution_count": 45,
   "metadata": {},
   "outputs": [
    {
     "name": "stdout",
     "output_type": "stream",
     "text": [
      "Files data/ch2/descending_order.txt and data/ch2/descending_order_test.txt are identical\r\n"
     ]
    }
   ],
   "source": [
    "# 19. Frequency of a string in the first column in descending order\n",
    "# Find the frequency of a string in the first column,\n",
    "# and sort the strings by descending order of their frequencies. \n",
    "# Confirm the result by using cut, uniq, and sort commands.\n",
    "\n",
    "first_col = [line.rstrip().split('\\t')[0] for line in open('data/ch2/popular-names.txt')]\n",
    "\n",
    "from collections import Counter\n",
    "with open('data/ch2/descending_order.txt','w') as f:\n",
    "    for i in Counter(first_col).most_common():\n",
    "        f.write(\"{} {}\\n\".format(i[1],i[0]))\n",
    "\n",
    "!sort -o data/ch2/descending_order.txt data/ch2/descending_order.txt --numeric-sort --reverse \n",
    "!cut --fields=1 data/ch2/popular-names.txt | sort | uniq --count | sort --reverse > data/ch2/descending_order_test.txt\n",
    "# -w is ignore whitespace\n",
    "!diff --report-identical-files -w data/ch2/descending_order.txt data/ch2/descending_order_test.txt"
   ]
  }
 ],
 "metadata": {
  "kernelspec": {
   "display_name": "Python 3",
   "language": "python",
   "name": "python3"
  },
  "language_info": {
   "codemirror_mode": {
    "name": "ipython",
    "version": 3
   },
   "file_extension": ".py",
   "mimetype": "text/x-python",
   "name": "python",
   "nbconvert_exporter": "python",
   "pygments_lexer": "ipython3",
   "version": "3.6.8"
  }
 },
 "nbformat": 4,
 "nbformat_minor": 4
}
