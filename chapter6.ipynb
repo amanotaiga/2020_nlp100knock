{
 "cells": [
  {
   "cell_type": "code",
   "execution_count": 22,
   "metadata": {},
   "outputs": [
    {
     "name": "stdout",
     "output_type": "stream",
     "text": [
      "train:  Counter({'b': 4490, 'e': 4237, 't': 1211, 'm': 734})\n",
      "valid:  Counter({'b': 589, 'e': 520, 't': 137, 'm': 88})\n",
      "test:  Counter({'b': 548, 'e': 522, 't': 176, 'm': 88})\n"
     ]
    }
   ],
   "source": [
    "'''50. データの入手・整形\n",
    "News Aggregator Data Setをダウンロードし、以下の要領で学習データ（train.txt），検証データ（valid.txt），評価データ（test.txt）を作成せよ．\n",
    "\n",
    "ダウンロードしたzipファイルを解凍し，readme.txtの説明を読む．\n",
    "情報源（publisher）が”Reuters”, “Huffington Post”, “Businessweek”, “Contactmusic.com”, “Daily Mail”の事例（記事）のみを抽出する．\n",
    "抽出された事例をランダムに並び替える．\n",
    "抽出された事例の80%を学習データ，残りの10%ずつを検証データと評価データに分割し，それぞれtrain.txt，valid.txt，test.txtというファイル名で保存する．ファイルには，１行に１事例を書き出すこととし，カテゴリ名と記事見出しのタブ区切り形式とせよ（このファイルは後に問題70で再利用する）．\n",
    "学習データと評価データを作成したら，各カテゴリの事例数を確認せよ．'''\n",
    "\n",
    "# !pip install sklearn\n",
    "# FORMAT: ID \\t TITLE \\t URL \\t PUBLISHER \\t CATEGORY \\t STORY \\t HOSTNAME \\t TIMESTAMP\n",
    "import pandas as pd\n",
    "from sklearn.model_selection import train_test_split\n",
    "from collections import Counter\n",
    "\n",
    "path = 'data/ch6/NewsAggregatorDataset/'\n",
    "\n",
    "df = pd.read_csv(path + 'newsCorpora.csv', sep='\\t', header=None)\n",
    "df.columns = ['ID', 'TITLE', 'URL', 'PUBLISHER', 'CATEGORY', 'STORY', 'HOSTNAME', 'TIMESTAMP']\n",
    "\n",
    "newsdataset = df.loc[df['PUBLISHER'].isin(['Reuters','Huffington Post','Businessweek','Contactmusic.com','Daily Mail'])]\n",
    "newsdataset = newsdataset.sample(frac=1).reset_index(drop=True)   #shuffle all data and reset index\n",
    "X = newsdataset[['TITLE','CATEGORY']]\n",
    "\n",
    "train, valid_test = train_test_split(X, test_size=0.2)\n",
    "valid, test = train_test_split(valid_test, test_size=0.5)\n",
    "\n",
    "train.to_csv(path + 'train.txt', sep='\\t', index=False, header=None)\n",
    "valid.to_csv(path + 'valid.txt', sep='\\t', index=False, header=None)\n",
    "test.to_csv(path + 'test.txt', sep='\\t', index=False, header=None)\n",
    "\n",
    "print(\"train: \",Counter(train['CATEGORY']))\n",
    "print(\"valid: \",Counter(valid['CATEGORY']))\n",
    "print(\"test: \",Counter(test['CATEGORY']))"
   ]
  },
  {
   "cell_type": "code",
   "execution_count": 23,
   "metadata": {},
   "outputs": [],
   "source": [
    "'''51. 特徴量抽出\n",
    "学習データ，検証データ，評価データから特徴量を抽出し，\n",
    "それぞれtrain.feature.txt，valid.feature.txt，test.feature.txtというファイル名で保存せよ．\n",
    "なお，カテゴリ分類に有用そうな特徴量は各自で自由に設計せよ．\n",
    "記事の見出しを単語列に変換したものが最低限のベースラインとなるであろう．'''\n",
    "from sklearn.feature_extraction.text import CountVectorizer\n",
    "from sklearn.feature_extraction.text import TfidfTransformer\n",
    "\n",
    "\n",
    "train = pd.read_csv(path +'train.txt', sep='\\t', header=None ,names=['TITLE', 'CATEGORY'])\n",
    "valid = pd.read_csv(path +'valid.txt', sep='\\t', header=None ,names=['TITLE', 'CATEGORY'])\n",
    "test  = pd.read_csv(path +'test.txt', sep='\\t', header=None ,names=['TITLE', 'CATEGORY'])\n",
    "\n",
    "vectorizer = CountVectorizer()\n",
    "X_train = vectorizer.fit_transform(train['TITLE'])\n",
    "X_valid = vectorizer.transform(valid['TITLE'])\n",
    "X_test = vectorizer.transform(test['TITLE'])\n",
    "\n",
    "pd.DataFrame(X_train.toarray()).to_csv(path +'train_feature.txt', sep='\\t', index=False, header=None)\n",
    "pd.DataFrame(X_valid.toarray()).to_csv(path +'valid_feature.txt', sep='\\t', index=False, header=None)\n",
    "pd.DataFrame(X_test.toarray()).to_csv(path  +'test_feature.txt', sep='\\t', index=False, header=None)"
   ]
  },
  {
   "cell_type": "code",
   "execution_count": 7,
   "metadata": {},
   "outputs": [
    {
     "name": "stdout",
     "output_type": "stream",
     "text": [
      "LogisticRegression(max_iter=3000)\n"
     ]
    }
   ],
   "source": [
    "'''52. 学習\n",
    "51で構築した学習データを用いて，ロジスティック回帰モデルを学習せよ．'''\n",
    "\n",
    "from sklearn.linear_model import LogisticRegression\n",
    "\n",
    "X_train = pd.read_csv(path + 'train_feature.txt',sep='\\t', header=None)\n",
    "y_train = pd.read_csv(path + 'train.txt',sep='\\t', header=None)[1]\n",
    "\n",
    "clf = LogisticRegression(max_iter=3000)\n",
    "clf.fit(X_train, y_train)\n",
    "print(clf)"
   ]
  },
  {
   "cell_type": "code",
   "execution_count": 25,
   "metadata": {},
   "outputs": [
    {
     "name": "stdout",
     "output_type": "stream",
     "text": [
      "['m' 'm' 't' ... 't' 'b' 'e']\n",
      "train acc:  1.0\n",
      "test acc:  0.9055472263868066\n",
      "\n",
      "training dataset confusion matrix\n",
      "[[4502    0    0    0]\n",
      " [   0 4241    0    0]\n",
      " [   0    0  728    0]\n",
      " [   0    0    0 1201]]\n",
      "\n",
      "testing dataset confusion matrix\n",
      "[[514  18   3  13]\n",
      " [  7 511   1   3]\n",
      " [ 12  12  63   1]\n",
      " [ 33  21   2 120]]\n",
      "\n",
      "Micro\n",
      "precision score: 0.9055472263868066\n",
      "recall score: 0.9055472263868066\n",
      "f1 score: 0.9055472263868066\n",
      "\n",
      "Macro\n",
      "precision score: 0.9015839411349262\n",
      "recall score: 0.8286526700429921\n",
      "f1 score: 0.8587315199542672\n",
      "\n",
      "None\n",
      "precision score: [0.90812721 0.90925267 0.91304348 0.87591241]\n",
      "recall score: [0.9379562  0.9789272  0.71590909 0.68181818]\n",
      "f1 score: [0.92280072 0.94280443 0.80254777 0.76677316]\n",
      "\n"
     ]
    }
   ],
   "source": [
    "'''53. 予測\n",
    "52で学習したロジスティック回帰モデルを用い，\n",
    "与えられた記事見出しからカテゴリとその予測確率を計算するプログラムを実装せよ．\n",
    "'''\n",
    "y_train_pred = clf.predict(X_train)\n",
    "print(y_train_pred)\n",
    "\n",
    "\n",
    "'''54. 正解率の計測\n",
    "52で学習したロジスティック回帰モデルの正解率を，\n",
    "学習データおよび評価データ上で計測せよ．'''\n",
    "\n",
    "from sklearn.metrics import accuracy_score\n",
    "\n",
    "X_valid = pd.read_csv(path + 'valid_feature.txt',sep='\\t', header=None)\n",
    "y_valid = pd.read_csv(path + 'valid.txt',sep='\\t', header=None)[1]\n",
    "\n",
    "X_test = pd.read_csv(path + 'test_feature.txt',sep='\\t', header=None)\n",
    "y_test = pd.read_csv(path + 'test.txt',sep='\\t', header=None)[1]\n",
    "\n",
    "y_train_pred = clf.predict(X_train)\n",
    "y_test_pred = clf.predict(X_test)\n",
    "\n",
    "print('train acc: ',accuracy_score(y_train, y_train_pred))\n",
    "print('test acc: ', accuracy_score(y_test, y_test_pred))\n",
    "\n",
    "\n",
    "\n",
    "'''55. 混同行列の作成\n",
    "52で学習したロジスティック回帰モデルの混同行列（confusion matrix）を，学習データおよび評価データ上で作成せよ．'''\n",
    "\n",
    "from sklearn.metrics import confusion_matrix\n",
    "\n",
    "\n",
    "print('\\ntraining dataset confusion matrix')\n",
    "print(confusion_matrix(y_train, y_train_pred))\n",
    "print('\\ntesting dataset confusion matrix')\n",
    "print(confusion_matrix(y_test, y_test_pred))\n",
    "\n",
    "\n",
    "\n",
    "'''56. 適合率，再現率，F1スコアの計測\n",
    "52で学習したロジスティック回帰モデルの適合率，再現率，F1スコアを，評価データ上で計測せよ．\n",
    "カテゴリごとに適合率，再現率，F1スコアを求め，\n",
    "カテゴリごとの性能をマイクロ平均（micro-average）とマクロ平均（macro-average）で統合せよ．'''\n",
    "\n",
    "\n",
    "from sklearn.metrics import precision_recall_fscore_support\n",
    "\n",
    "precision,recall,f1,_ = precision_recall_fscore_support(y_test, y_test_pred, average='micro')\n",
    "print('\\nMicro\\nprecision score: {}\\nrecall score: {}\\nf1 score: {}\\n'.format(precision,recall,f1))\n",
    "precision,recall,f1,_ = precision_recall_fscore_support(y_test, y_test_pred, average='macro')\n",
    "print('Macro\\nprecision score: {}\\nrecall score: {}\\nf1 score: {}\\n'.format(precision,recall,f1))\n",
    "precision,recall,f1,_ = precision_recall_fscore_support(y_test, y_test_pred, average=None)\n",
    "print('None\\nprecision score: {}\\nrecall score: {}\\nf1 score: {}\\n'.format(precision,recall,f1))"
   ]
  },
  {
   "cell_type": "code",
   "execution_count": 33,
   "metadata": {},
   "outputs": [
    {
     "name": "stdout",
     "output_type": "stream",
     "text": [
      "business\n",
      "top features:\n",
      " [('bank', 1.938062778303614), ('fed', 1.7641833555723037), ('ecb', 1.6499986914740037), ('obamacare', 1.6047951284878035), ('yellen', 1.5840908736792165), ('ukraine', 1.490314559261935), ('euro', 1.4818975362647135), ('china', 1.4609736231452768), ('pfizer', 1.4561007964230088), ('argentina', 1.4506487417518776)]\n",
      "bottom features:\n",
      " [('activision', -1.3641356109443692), ('aereo', -1.2829854681223472), ('cap', -1.2390198775382195), ('ebola', -1.1539809148327385), ('she', -1.083694484459867), ('heartbleed', -1.038659360991059), ('sony', -0.9536628222444056), ('fcc', -0.9530970166497248), ('gay', -0.9117944062765752), ('subscription', -0.911644760589598)]\n",
      "--------------------------------------------------------------------------------\n",
      "entertainment\n",
      "top features:\n",
      " [('chris', 1.6529140788144248), ('kardashian', 1.6315118546066742), ('paul', 1.6121329799920774), ('thrones', 1.3632989160896418), ('transformers', 1.3589957059520246), ('movie', 1.3156606362180596), ('miley', 1.3083860350474763), ('jay', 1.2823155579256333), ('film', 1.2726463329632696), ('beyonce', 1.2696464204992255)]\n",
      "bottom features:\n",
      " [('google', -1.6015526262657165), ('gm', -1.2875207394568753), ('facebook', -1.2547366581728652), ('microsoft', -1.236095288641563), ('ceo', -1.129709948669559), ('data', -1.1183831979781242), ('china', -1.100394837799071), ('risk', -1.0816142438130698), ('ebola', -1.0631972959817337), ('climate', -1.0543652068246872)]\n",
      "--------------------------------------------------------------------------------\n",
      "health\n",
      "top features:\n",
      " [('ebola', 2.715229292604341), ('fda', 2.1603479752107675), ('cancer', 2.157018360247166), ('drug', 1.887999361720546), ('mers', 1.8116530665619979), ('cases', 1.800820842032243), ('study', 1.5466604227272298), ('cigarettes', 1.514515047774281), ('brain', 1.4748913663372003), ('cdc', 1.4533790473081003)]\n",
      "bottom features:\n",
      " [('facebook', -0.8403749919588054), ('gm', -0.8213759428322633), ('dimon', -0.789789109126338), ('apple', -0.7471205542472803), ('climate', -0.724019056878846), ('twitter', -0.6936467581527221), ('buy', -0.656488594173278), ('price', -0.5821725021013401), ('amazon', -0.5510847357679268), ('game', -0.5378887774621077)]\n",
      "--------------------------------------------------------------------------------\n",
      "science and technology\n",
      "top features:\n",
      " [('facebook', 2.693139095148873), ('google', 2.660846839495678), ('microsoft', 2.427659918887116), ('apple', 2.3906304248575156), ('climate', 2.279279167691832), ('tesla', 1.981158600816763), ('heartbleed', 1.9595268492756548), ('nasa', 1.8312299193035286), ('fcc', 1.7977149501183523), ('gm', 1.6555555201005225)]\n",
      "bottom features:\n",
      " [('stocks', -1.165310989475191), ('percent', -0.9060054077041297), ('shares', -0.8193769483714751), ('thrones', -0.7721506704124104), ('valued', -0.7683965899815788), ('should', -0.7489517596204757), ('fed', -0.7441321445923588), ('american', -0.7429629019191649), ('drug', -0.7155864584855733), ('his', -0.7070140281098548)]\n",
      "--------------------------------------------------------------------------------\n"
     ]
    }
   ],
   "source": [
    "'''57. 特徴量の重みの確認\n",
    "52で学習したロジスティック回帰モデルの中で，重みの高い特徴量トップ10と，重みの低い特徴量トップ10を確認せよ．'''\n",
    "# resources form stackoverflow\n",
    "# https://stackoverflow.com/questions/28667594/linking-sklearn-logisticregression-coefficients-to-terms-in-a-sparse-matrix-and\n",
    "  \n",
    "labels = ['business','entertainment','health','science and technology']\n",
    "  \n",
    "for c in zip(labels,clf.coef_):\n",
    "    print(c[0])\n",
    "    top_features = sorted(list(zip(vectorizer.get_feature_names(), c[1])),key=lambda x: (x[1]),reverse=True)[:10]\n",
    "    print(\"top features:\\n\",top_features)\n",
    "    bottom_features = sorted(list(zip(vectorizer.get_feature_names(), c[1])),key=lambda x: (x[1]),reverse=False)[:10]\n",
    "    print(\"bottom features:\\n\",bottom_features)\n",
    "    print('-'*80)"
   ]
  },
  {
   "cell_type": "code",
   "execution_count": 37,
   "metadata": {},
   "outputs": [
    {
     "data": {
      "image/png": "[encoded data removed]",
      "text/plain": [
       "<Figure size 432x288 with 1 Axes>"
      ]
     },
     "metadata": {
      "needs_background": "light"
     },
     "output_type": "display_data"
    }
   ],
   "source": [
    "'''58. 正則化パラメータの変更\n",
    "ロジスティック回帰モデルを学習するとき，正則化パラメータを調整することで，\n",
    "学習時の過学習（overfitting）の度合いを制御できる．\n",
    "異なる正則化パラメータでロジスティック回帰モデルを学習し，\n",
    "学習データ，検証データ，および評価データ上の正解率を求めよ．\n",
    "実験の結果は，正則化パラメータを横軸，正解率を縦軸としたグラフにまとめよ．'''\n",
    "from sklearn.linear_model import LogisticRegression\n",
    "import matplotlib.pyplot as plt\n",
    "\n",
    "X_valid = pd.read_csv(path+ 'valid_feature.txt',sep='\\t', header=None)\n",
    "y_valid = pd.read_csv(path+ 'valid.txt',sep='\\t', header=None)[1]\n",
    "\n",
    "c_parameters = [0.1,1,10,100]\n",
    "trn_acc, val_acc, tst_acc = [],[],[]\n",
    "\n",
    "for c in c_parameters:\n",
    "    clf = LogisticRegression(C=c)\n",
    "    clf.fit(X_train, y_train)\n",
    "    y_train_pred = clf.predict(X_train)\n",
    "    y_valid_pred = clf.predict(X_valid)\n",
    "    y_test_pred = clf.predict(X_test)\n",
    "    \n",
    "    trn_acc.append(accuracy_score(y_train, y_train_pred))\n",
    "    val_acc.append(accuracy_score(y_valid, y_valid_pred))\n",
    "    tst_acc.append(accuracy_score(y_test, y_test_pred))\n",
    "    \n",
    "plt.plot(c_parameters, trn_acc, label='train acc')\n",
    "plt.plot(c_parameters, val_acc, label='valid acc')\n",
    "plt.plot(c_parameters, tst_acc,  label='test acc')\n",
    "plt.legend()\n",
    "plt.show()"
   ]
  },
  {
   "cell_type": "code",
   "execution_count": 8,
   "metadata": {},
   "outputs": [
    {
     "name": "stdout",
     "output_type": "stream",
     "text": [
      "Best Score:  0.8738963538991698\n",
      "Best Params:  {'C': 0.1, 'solver': 'lbfgs'}\n",
      "test acc:  0.8733133433283359\n"
     ]
    }
   ],
   "source": [
    "'''59. ハイパーパラメータの探索\n",
    "学習アルゴリズムや学習パラメータを変えながら，カテゴリ分類モデルを学習せよ．\n",
    "検証データ上の正解率が最も高くなる学習アルゴリズム・パラメータを求めよ．\n",
    "また，その学習アルゴリズム・パラメータを用いたときの評価データ上の正解率を求めよ．\n",
    "'''\n",
    "from sklearn.linear_model import LogisticRegression\n",
    "from sklearn.model_selection import GridSearchCV\n",
    "from sklearn.metrics import accuracy_score\n",
    "\n",
    "X_trn = pd.concat([X_train,X_valid],axis=0)\n",
    "y_trn =  pd.concat([y_train,y_valid],axis=0)\n",
    "\n",
    "c_params = [0.01, 0.1, 1, 10]\n",
    "sol = ['newton-cg', 'lbfgs', 'liblinear']\n",
    "\n",
    "param_grid = dict(C=c_params, solver = sol)\n",
    "\n",
    "clf = LogisticRegression(dual = False, max_iter=3000)\n",
    "# decide params by cross-validation default: 5 fold\n",
    "grid = GridSearchCV(estimator=clf, param_grid=param_grid)\n",
    "grid_result = grid.fit(X_trn, y_trn)\n",
    "\n",
    "print('Best Score: ', grid_result.best_score_)\n",
    "print('Best Params: ', grid_result.best_params_)\n",
    "\n",
    "y_test_pred = grid.predict(X_test)\n",
    "print('test acc: ', accuracy_score(y_test, y_test_pred))\n"
   ]
  }
 ],
 "metadata": {
  "kernelspec": {
   "display_name": "Python 3",
   "language": "python",
   "name": "python3"
  },
  "language_info": {
   "codemirror_mode": {
    "name": "ipython",
    "version": 3
   },
   "file_extension": ".py",
   "mimetype": "text/x-python",
   "name": "python",
   "nbconvert_exporter": "python",
   "pygments_lexer": "ipython3",
   "version": "3.6.8"
  }
 },
 "nbformat": 4,
 "nbformat_minor": 4
}
