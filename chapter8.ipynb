{
 "cells": [
  {
   "cell_type": "code",
   "execution_count": 1,
   "metadata": {},
   "outputs": [],
   "source": [
    "# !pip install gensim\n",
    "# !pip install sklearn\n",
    "# !pip install matplotlib\n",
    "\n",
    "from gensim import models\n",
    "import pandas as pd \n",
    "import numpy as np\n",
    "\n",
    "wordvec = models.KeyedVectors.load_word2vec_format('data/ch7/GoogleNews-vectors-negative300.bin.gz', binary=True)\n",
    "\n",
    "train = pd.read_csv('data/ch8/NewsAggregatorDataset/train.txt', sep='\\t', header=None)\n",
    "valid = pd.read_csv('data/ch8/NewsAggregatorDataset/valid.txt', sep='\\t', header=None)\n",
    "test = pd.read_csv('data/ch8/NewsAggregatorDataset/test.txt', sep='\\t', header=None)\n",
    "\n",
    "train.columns = ['TITLE', 'CATEGORY']\n",
    "valid.columns = ['TITLE', 'CATEGORY']\n",
    "test.columns  = ['TITLE', 'CATEGORY']"
   ]
  },
  {
   "cell_type": "code",
   "execution_count": 2,
   "metadata": {},
   "outputs": [],
   "source": [
    "'''70. 単語ベクトルの和による特徴量\n",
    "問題50で構築した学習データ，検証データ，評価データを行列・ベクトルに変換したい．\n",
    "例えば，学習データについて，すべての事例xiの特徴ベクトルxiを並べた行列Xと，\n",
    "正解ラベルを並べた行列（ベクトル）Yを作成したい．'''\n",
    "\n",
    "import numpy as np\n",
    "import pandas as pd \n",
    "\n",
    "def text2vec(data, wordvec):  \n",
    "    vecs = []\n",
    "    for index,row in data.iterrows():\n",
    "        vec = [wordvec[word] for word in row['TITLE'].split() if word in wordvec]\n",
    "        if len(vec) < 1:   # if no words in word2vec, assign 0\n",
    "            vecs.append(np.zeros(wordvec.vector_size))\n",
    "        else:\n",
    "            vecs.append(np.mean(vec,axis=0))\n",
    "    return vecs\n",
    "\n",
    "train_feature = pd.DataFrame(text2vec(train, wordvec))\n",
    "valid_feature = pd.DataFrame(text2vec(valid, wordvec))\n",
    "test_feature = pd.DataFrame(text2vec(test, wordvec))\n",
    "\n",
    "train_feature.to_csv('data/ch8/NewsAggregatorDataset/train.feature.txt', sep='\\t', index=False, header=None)\n",
    "valid_feature.to_csv('data/ch8/NewsAggregatorDataset/valid.feature.txt', sep='\\t', index=False, header=None)\n",
    "test_feature.to_csv('data/ch8/NewsAggregatorDataset/test.feature.txt',   sep='\\t', index=False, header=None)"
   ]
  },
  {
   "cell_type": "code",
   "execution_count": 1,
   "metadata": {},
   "outputs": [
    {
     "name": "stdout",
     "output_type": "stream",
     "text": [
      "10672 1334 1334\n",
      "10672 1334 1334\n",
      "(10672, 300)\n",
      "tensor([[0.0061, 0.0137, 0.0111, 0.9691],\n",
      "        [0.0080, 0.0022, 0.0232, 0.9666],\n",
      "        [0.0813, 0.2573, 0.1491, 0.5123],\n",
      "        [0.0152, 0.1209, 0.0280, 0.8359]])\n"
     ]
    }
   ],
   "source": [
    "'''71. 単層ニューラルネットワークによる予測\n",
    "問題70で保存した行列を読み込み，学習データについて以下の計算を実行せよ'''\n",
    "import torch\n",
    "import pandas as pd \n",
    "\n",
    "label_map = {'b':0,'e':1,'t':2,'m':3}\n",
    "\n",
    "X_train = pd.read_csv('data/ch8/NewsAggregatorDataset/train.feature.txt',sep='\\t', header=None)\n",
    "y_train = pd.read_csv('data/ch8/NewsAggregatorDataset/train.txt',sep='\\t', header=None).replace({1: label_map})[1]\n",
    "\n",
    "X_valid = pd.read_csv('data/ch8/NewsAggregatorDataset/valid.feature.txt',sep='\\t', header=None)\n",
    "y_valid = pd.read_csv('data/ch8/NewsAggregatorDataset/valid.txt',sep='\\t', header=None).replace({1: label_map})[1]\n",
    "\n",
    "X_test = pd.read_csv('data/ch8/NewsAggregatorDataset/test.feature.txt',sep='\\t', header=None)\n",
    "y_test = pd.read_csv('data/ch8/NewsAggregatorDataset/test.txt',sep='\\t', header=None).replace({1: label_map})[1]\n",
    "\n",
    "# X_test = X_test.loc[(X_test != 0).any(axis=1),:]\n",
    "print(len(y_train),len(y_valid),len(y_test))\n",
    "print(len(X_train),len(X_valid),len(X_test))\n",
    "print(X_train.shape)\n",
    "\n",
    "X_Train = torch.tensor(X_train.values, dtype=torch.float32)\n",
    "Y_Train = torch.tensor(y_train.values, dtype=torch.int64)\n",
    "\n",
    "W = torch.randn(300, len(label_map))  # input_dim, output_dim\n",
    "softmax = torch.nn.Softmax(dim=1)\n",
    "Y = softmax(torch.matmul(X_Train[:4], W))\n",
    "print(Y)"
   ]
  },
  {
   "cell_type": "code",
   "execution_count": 3,
   "metadata": {},
   "outputs": [
    {
     "name": "stdout",
     "output_type": "stream",
     "text": [
      "tensor(0.6583)\n",
      "0.658319\n"
     ]
    }
   ],
   "source": [
    "'''72. 損失と勾配の計算\n",
    "学習データの事例x1と事例集合x1,x2,x3,x4に対して，\n",
    "クロスエントロピー損失と，行列Wに対する勾配を計算せよ．\n",
    "なお，ある事例xiに対して損失は次式で計算される'''\n",
    "from torch import nn\n",
    "import numpy as np\n",
    "\n",
    "W = torch.randn(300, 4)\n",
    "softmax = torch.nn.Softmax(dim=1)\n",
    "Y = (torch.matmul(X_Train[:4], W))\n",
    "\n",
    "loss_fn = nn.CrossEntropyLoss()\n",
    "loss = loss_fn(Y, Y_Train[:4])\n",
    "print(loss)\n",
    "\n",
    "cross_entropy = []\n",
    "# check cross_entropy\n",
    "for pred,true_label in zip(softmax(torch.matmul(X_Train[:4], W)),Y_Train[:4]):\n",
    "    cross_entropy.append(-np.log(pred[true_label]))\n",
    "print(np.mean(cross_entropy))"
   ]
  },
  {
   "cell_type": "code",
   "execution_count": 37,
   "metadata": {},
   "outputs": [
    {
     "name": "stdout",
     "output_type": "stream",
     "text": [
      "tensor(1.2272, grad_fn=<NllLossBackward>)\n"
     ]
    }
   ],
   "source": [
    "'''73. 確率的勾配降下法による学習\n",
    "確率的勾配降下法（SGD: Stochastic Gradient Descent）を用いて\n",
    "，行列Wを学習せよ．なお，学習は適当な基準で終了させればよい\n",
    "（例えば「100エポックで終了」など）．'''\n",
    "from torch import optim\n",
    "\n",
    "class LogisticRegression(torch.nn.Module):\n",
    "    def __init__(self, input_dim, output_dim):\n",
    "        super(LogisticRegression, self).__init__()\n",
    "        self.linear = torch.nn.Linear(input_dim, output_dim)\n",
    "\n",
    "    def forward(self, x):\n",
    "        outputs = self.linear(x)\n",
    "        return outputs\n",
    "    \n",
    "model = LogisticRegression(300, 4)\n",
    "\n",
    "loss_fn = nn.CrossEntropyLoss()\n",
    "optimizer = optim.SGD(model.parameters(), lr=0.01)\n",
    "\n",
    "for epoch in range(100):\n",
    "    optimizer.zero_grad()\n",
    "    y_pred = model(X_Train)\n",
    "    loss = loss_fn(y_pred, Y_Train)\n",
    "    loss.backward()\n",
    "    optimizer.step()\n",
    "\n",
    "print(loss)"
   ]
  },
  {
   "cell_type": "code",
   "execution_count": 38,
   "metadata": {},
   "outputs": [
    {
     "name": "stdout",
     "output_type": "stream",
     "text": [
      "training acc:  0.7399737631184408\n",
      "testing acc:  0.7263868065967016\n"
     ]
    }
   ],
   "source": [
    "'''74. 正解率の計測\n",
    "問題73で求めた行列を用いて学習データおよび評価データの事例を分類したとき，\n",
    "その正解率をそれぞれ求めよ．'''\n",
    "\n",
    "X_Test = torch.tensor(X_test.values, dtype=torch.float32)\n",
    "Y_Test = torch.tensor(y_test.values, dtype=torch.int64)\n",
    "\n",
    "_, y_pred_trn = torch.max(model(X_Train), 1)\n",
    "print('training acc: ',(y_pred_trn == Y_Train).sum().item() / len(Y_Train))\n",
    "\n",
    "_, y_pred_tst = torch.max(model(X_Test), 1)\n",
    "print('testing acc: ',(y_pred_tst == Y_Test).sum().item() / len(Y_Test))"
   ]
  },
  {
   "cell_type": "code",
   "execution_count": 43,
   "metadata": {},
   "outputs": [
    {
     "data": {
      "image/png": "[encoded data removed]",
      "text/plain": [
       "<Figure size 432x288 with 1 Axes>"
      ]
     },
     "metadata": {
      "needs_background": "light"
     },
     "output_type": "display_data"
    },
    {
     "data": {
      "image/png": "[encoded data removed]",
      "text/plain": [
       "<Figure size 432x288 with 1 Axes>"
      ]
     },
     "metadata": {
      "needs_background": "light"
     },
     "output_type": "display_data"
    }
   ],
   "source": [
    "'''75. 損失と正解率のプロット\n",
    "問題73のコードを改変し，各エポックのパラメータ更新が完了するたびに，\n",
    "訓練データでの損失，正解率，検証データでの損失，正解率をグラフにプロットし，\n",
    "学習の進捗状況を確認できるようにせよ．'''\n",
    "\n",
    "'''76. チェックポイント\n",
    "問題75のコードを改変し，各エポックのパラメータ更新が完了するたびに，\n",
    "チェックポイント（学習途中のパラメータ（重み行列など）の値や最適化アルゴリズムの内部状態\n",
    "）をファイルに書き出せ．'''\n",
    "\n",
    "import matplotlib.pyplot as plt\n",
    "\n",
    "X_Valid = torch.tensor(X_valid.values, dtype=torch.float32)\n",
    "Y_Valid = torch.tensor(y_valid.values, dtype=torch.int64)\n",
    "\n",
    "class LogisticRegression(torch.nn.Module):\n",
    "    def __init__(self, input_dim, output_dim):\n",
    "        super(LogisticRegression, self).__init__()\n",
    "        self.linear = torch.nn.Linear(input_dim, output_dim)\n",
    "\n",
    "    def forward(self, x):\n",
    "        outputs = self.linear(x)\n",
    "        return outputs\n",
    "    \n",
    "model = LogisticRegression(300, 4)\n",
    "\n",
    "loss_fn = nn.CrossEntropyLoss()\n",
    "optimizer = optim.SGD(model.parameters(), lr=0.01)\n",
    "train_loss = []\n",
    "valid_loss = []\n",
    "train_acc = []\n",
    "valid_acc = []\n",
    "\n",
    "for epoch in range(100):\n",
    "    optimizer.zero_grad()\n",
    "    y_pred = model(X_Train)\n",
    "    loss = loss_fn(y_pred, Y_Train)\n",
    "    train_loss.append(loss)\n",
    "    loss.backward()\n",
    "    optimizer.step()    \n",
    "    with torch.no_grad():\n",
    "        valid_loss.append(loss_fn(model(X_Valid), Y_Valid))\n",
    "        _, y_pred_trn = torch.max(model(X_Train), 1)\n",
    "        train_acc.append((y_pred_trn == Y_Train).sum().item() / len(Y_Train))\n",
    "\n",
    "        _, y_pred_val = torch.max(model(X_Valid), 1)\n",
    "        valid_acc.append((y_pred_val == Y_Valid).sum().item() / len(Y_Valid))\n",
    "    \n",
    "    if (epoch % 20) == 0 and epoch > 0:   # save model state every 20 epochs\n",
    "        state = {'epoch': epoch + 1, 'state_dict': model.state_dict(), 'optimizer': optimizer.state_dict(),}\n",
    "        torch.save(state, 'data/ch8/model/{}_checkpoint'.format(epoch+1))        \n",
    "\n",
    "\n",
    "plt.plot(train_loss, label='train loss')\n",
    "plt.plot(valid_loss, label='valid loss')\n",
    "plt.legend()\n",
    "plt.show()\n",
    "\n",
    "plt.plot(train_acc, label='train acc')\n",
    "plt.plot(valid_acc, label='valid acc')\n",
    "plt.legend()\n",
    "plt.show()"
   ]
  },
  {
   "cell_type": "code",
   "execution_count": 37,
   "metadata": {},
   "outputs": [],
   "source": [
    "'''76. チェックポイント\n",
    "問題75のコードを改変し，各エポックのパラメータ更新が完了するたびに，\n",
    "チェックポイント（学習途中のパラメータ（重み行列など）の値や最適化アルゴリズムの内部状態\n",
    "）をファイルに書き出せ．'''\n",
    "\n",
    "import os\n",
    "\n",
    "def load_checkpoint(model, optimizer, filename='checkpoint'):\n",
    "    # Note: Input model & optimizer should be pre-defined.  This routine only updates their states.\n",
    "    start_epoch = 0\n",
    "    if os.path.isfile(filename):\n",
    "        print(\"=> loading checkpoint '{}'\".format(filename))\n",
    "        checkpoint = torch.load(filename)\n",
    "        start_epoch = checkpoint['epoch']\n",
    "        model.load_state_dict(checkpoint['state_dict'])\n",
    "        optimizer.load_state_dict(checkpoint['optimizer'])\n",
    "        print(\"=> loaded checkpoint '{}' (epoch {})\"\n",
    "                  .format(filename, checkpoint['epoch']))\n",
    "    else:\n",
    "        print(\"=> no checkpoint found at '{}'\".format(filename))\n",
    "\n",
    "    return model, optimizer, start_epoch\n",
    "\n",
    "# load_checkpoint(model, optimizer, filename)"
   ]
  },
  {
   "cell_type": "code",
   "execution_count": 20,
   "metadata": {},
   "outputs": [
    {
     "name": "stdout",
     "output_type": "stream",
     "text": [
      "[4.395303249359131, 2.3849432468414307, 1.2231502532958984, 0.6890079975128174, 0.3879413604736328, 0.30531740188598633, 0.2304089069366455, 0.5363366603851318, 0.49559664726257324]\n"
     ]
    }
   ],
   "source": [
    "'''77. ミニバッチ化\n",
    "問題76のコードを改変し，\n",
    "B事例ごとに損失・勾配を計算し，行列Wの値を更新せよ（ミニバッチ化）．\n",
    "Bの値を1,2,4,8,…と変化させながら，1エポックの学習に要する時間を比較せよ．'''\n",
    "\n",
    "from torch.utils.data import TensorDataset, DataLoader\n",
    "import time\n",
    "\n",
    "model = LogisticRegression(300, 4)\n",
    "ds = TensorDataset(X_Train, Y_Train)\n",
    "ls_time = []\n",
    "\n",
    "for batch in [1,2,4,8,16,32,64,128,512]:\n",
    "    optimizer = optim.SGD(model.parameters(), lr=0.01)\n",
    "    loader = DataLoader(ds, batch_size=batch, shuffle=True) \n",
    "    for epoch in range(1):\n",
    "        start = time.time()        \n",
    "        for data in loader:\n",
    "            optimizer.zero_grad()\n",
    "            y_pred = model(data[0])\n",
    "            loss = loss_fn(y_pred, data[1])\n",
    "            train_loss.append(loss)\n",
    "            loss.backward()\n",
    "            optimizer.step()\n",
    "    ls_time.append(time.time()-start)\n",
    "print(ls_time)"
   ]
  },
  {
   "cell_type": "code",
   "execution_count": 21,
   "metadata": {},
   "outputs": [
    {
     "name": "stdout",
     "output_type": "stream",
     "text": [
      "[9.682912111282349, 5.054327487945557, 2.636132001876831, 1.3525276184082031, 0.7816565036773682, 0.41132473945617676, 0.2780880928039551, 0.2037811279296875, 0.12181615829467773]\n"
     ]
    }
   ],
   "source": [
    "'''78. GPU上での学習\n",
    "問題77のコードを改変し，GPU上で学習を実行せよ．'''\n",
    "\n",
    "import torch\n",
    "from torch import nn, optim\n",
    "from torch.utils.data import TensorDataset, DataLoader\n",
    "import time\n",
    "\n",
    "\n",
    "class LogisticRegression(torch.nn.Module):\n",
    "    def __init__(self, input_dim, output_dim):\n",
    "        super(LogisticRegression, self).__init__()\n",
    "        self.linear = torch.nn.Linear(input_dim, output_dim)\n",
    "\n",
    "    def forward(self, x):\n",
    "        outputs = self.linear(x)\n",
    "        return outputs\n",
    "\n",
    "device = 'cuda' if torch.cuda.is_available() else 'cpu'    \n",
    "model = LogisticRegression(300, 4)\n",
    "model = model.to(device)\n",
    "\n",
    "loss_fn = nn.CrossEntropyLoss()\n",
    "optimizer = optim.SGD(model.parameters(), lr=0.01)\n",
    "\n",
    "\n",
    "X_Train = torch.tensor(X_train.values, dtype=torch.float32)\n",
    "Y_Train = torch.tensor(y_train.values, dtype=torch.int64)\n",
    "\n",
    "dataset = TensorDataset(X_Train.to(device), Y_Train.to(device))\n",
    "loader = DataLoader(ds, batch_size=8, shuffle=True)\n",
    "ls_time = []\n",
    "train_loss = []\n",
    "\n",
    "for batch in [1,2,4,8,16,32,64,128,512]:\n",
    "    optimizer = optim.SGD(model.parameters(), lr=0.01)\n",
    "    loader = DataLoader(dataset, batch_size=batch, shuffle=True) \n",
    "    for epoch in range(1):\n",
    "        start = time.time()        \n",
    "        for data in loader:\n",
    "            optimizer.zero_grad()\n",
    "            y_pred = model(data[0])\n",
    "            loss = loss_fn(y_pred, data[1])\n",
    "            train_loss.append(loss)\n",
    "            loss.backward()\n",
    "            optimizer.step()\n",
    "    ls_time.append(time.time()-start)\n",
    "print(ls_time)"
   ]
  },
  {
   "cell_type": "code",
   "execution_count": 44,
   "metadata": {},
   "outputs": [
    {
     "data": {
      "application/vnd.jupyter.widget-view+json": {
       "model_id": "8c367862555e48e3868f4be118dc3e50",
       "version_major": 2,
       "version_minor": 0
      },
      "text/plain": [
       "HBox(children=(IntProgress(value=0), HTML(value='')))"
      ]
     },
     "metadata": {},
     "output_type": "display_data"
    },
    {
     "name": "stdout",
     "output_type": "stream",
     "text": [
      "\n",
      "0.1012427806854248\n",
      "testing acc:  0.8748125937031485\n"
     ]
    }
   ],
   "source": [
    "'''79. 多層ニューラルネットワーク\n",
    "問題78のコードを改変し，バイアス項の導入や多層化など，\n",
    "ニューラルネットワークの形状を変更しながら，高性能なカテゴリ分類器を構築せよ．'''\n",
    "\n",
    "import torch\n",
    "from torch import nn, optim\n",
    "from torch.utils.data import TensorDataset, DataLoader\n",
    "import time\n",
    "from tqdm import tqdm_notebook\n",
    "\n",
    "\n",
    "class MLP(nn.Module):\n",
    "    def __init__(self, input_dim, output_dim):\n",
    "        super(MLP, self).__init__()\n",
    "        self.layers  = nn.Sequential(\n",
    "            nn.Linear(input_dim, 100),\n",
    "            nn.ReLU(),\n",
    "            nn.BatchNorm1d(100),\n",
    "            nn.Linear(100, 25),\n",
    "            nn.ReLU(),\n",
    "            nn.BatchNorm1d(25),\n",
    "            nn.Linear(25, output_dim),\n",
    "        )\n",
    "\n",
    "    def forward(self, x):\n",
    "        outputs = self.layers(x)\n",
    "        return outputs\n",
    "\n",
    "device = 'cuda' if torch.cuda.is_available() else 'cpu'    \n",
    "model = MLP(300, 4)\n",
    "model = model.to(device)\n",
    "\n",
    "loss_fn = nn.CrossEntropyLoss()\n",
    "optimizer = optim.SGD(model.parameters(), lr=0.01)\n",
    "\n",
    "\n",
    "X_Train = torch.tensor(X_train.values, dtype=torch.float32)\n",
    "Y_Train = torch.tensor(y_train.values, dtype=torch.int64)\n",
    "\n",
    "dataset = TensorDataset(X_Train, Y_Train)\n",
    "loader = DataLoader(dataset, batch_size=8, shuffle=True)\n",
    "ls_time = []\n",
    "train_loss = []\n",
    "\n",
    "optimizer = optim.SGD(model.parameters(), lr=0.01)\n",
    "loader = DataLoader(ds, batch_size=batch, shuffle=True) \n",
    "for epoch in tqdm_notebook(range(100)):\n",
    "    for data in loader:\n",
    "        optimizer.zero_grad()\n",
    "        y_pred = model(data[0].to(device))\n",
    "        loss = loss_fn(y_pred, data[1].to(device))\n",
    "        train_loss.append(loss)\n",
    "        loss.backward()\n",
    "        optimizer.step()\n",
    "        \n",
    "print(loss.item())\n",
    "\n",
    "_, y_pred_tst = torch.max(model(X_Test.to(device)), 1)\n",
    "print('testing acc: ',(y_pred_tst == Y_Test.to(device)).sum().item() / len(Y_Test))"
   ]
  }
 ],
 "metadata": {
  "kernelspec": {
   "display_name": "Python 3",
   "language": "python",
   "name": "python3"
  },
  "language_info": {
   "codemirror_mode": {
    "name": "ipython",
    "version": 3
   },
   "file_extension": ".py",
   "mimetype": "text/x-python",
   "name": "python",
   "nbconvert_exporter": "python",
   "pygments_lexer": "ipython3",
   "version": "3.6.8"
  }
 },
 "nbformat": 4,
 "nbformat_minor": 4
}
